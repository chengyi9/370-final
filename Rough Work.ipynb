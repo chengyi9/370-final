{
 "cells": [
  {
   "cell_type": "code",
   "execution_count": 34,
   "metadata": {},
   "outputs": [],
   "source": [
    "import pandas as pd\n",
    "import numpy as np\n",
    "import statsmodels.formula.api as smf # linear modeling\n",
    "import matplotlib.pyplot as plt # plotting\n",
    "import matplotlib.lines as mlines\n",
    "import statsmodels.api as sm\n",
    "import seaborn as sns\n",
    "import warnings"
   ]
  },
  {
   "cell_type": "code",
   "execution_count": 4,
   "metadata": {},
   "outputs": [],
   "source": [
    "por = pd.read_csv(\"student-alcohol-consumption/student-mat.csv\")\n",
    "math = pd.read_csv(\"student-alcohol-consumption/student-por.csv\")"
   ]
  },
  {
   "cell_type": "code",
   "execution_count": 51,
   "metadata": {},
   "outputs": [
    {
     "data": {
      "text/plain": [
       "0      1.00\n",
       "1      0.77\n",
       "2      0.52\n",
       "3      0.54\n",
       "4      0.50\n",
       "5      0.51\n",
       "6      1.02\n",
       "7      1.00\n",
       "8      0.52\n",
       "9      0.26\n",
       "10     0.77\n",
       "11     0.51\n",
       "12     0.76\n",
       "13     0.77\n",
       "14     0.55\n",
       "15     1.02\n",
       "16     0.76\n",
       "17     0.49\n",
       "18     1.26\n",
       "19     0.76\n",
       "20     0.27\n",
       "21     0.52\n",
       "22     0.26\n",
       "23     1.01\n",
       "24     0.51\n",
       "25     0.52\n",
       "26     0.52\n",
       "27     1.02\n",
       "28     0.76\n",
       "29     1.29\n",
       "       ... \n",
       "619    0.55\n",
       "620    1.04\n",
       "621    0.50\n",
       "622    1.00\n",
       "623    0.55\n",
       "624    0.30\n",
       "625    0.80\n",
       "626    0.55\n",
       "627    0.79\n",
       "628    0.77\n",
       "629    1.26\n",
       "630    1.02\n",
       "631    0.52\n",
       "632    0.80\n",
       "633    0.76\n",
       "634    0.80\n",
       "635    1.01\n",
       "636    1.01\n",
       "637    0.79\n",
       "638    0.76\n",
       "639    0.50\n",
       "640    0.75\n",
       "641    0.75\n",
       "642    1.02\n",
       "643    0.79\n",
       "644    0.51\n",
       "645    1.02\n",
       "646    0.24\n",
       "647    1.27\n",
       "648    0.27\n",
       "Name: Social Index, Length: 1044, dtype: float64"
      ]
     },
     "execution_count": 51,
     "metadata": {},
     "output_type": "execute_result"
    }
   ],
   "source": [
    "df = pd.concat([por,math], sort= True)\n",
    "df\n",
    "\n",
    "## Make a copy of the dataframe for statistical analysis\n",
    "df_stats = pd.concat([por,math], sort= True, ignore_index=False)\n",
    "\n",
    "## Make a copy of the dataframe to print out\n",
    "df_nice = pd.concat([por,math], sort= True, ignore_index=False)\n",
    "\n",
    "## Changing numeric variables to categorical variables\n",
    "df_stats['internet'] = df_stats.internet.factorize( ['yes', 'no'] )[0]\n",
    "df_stats['activities'] = df_stats.activities.factorize( ['yes', 'no'] )[0]\n",
    "df_stats['romantic'] = df_stats.romantic.factorize( ['yes', 'no'] )[0]\n",
    "df_stats[\"Dalc\"] = df_stats[\"Dalc\"].values\n",
    "df_stats[\"goout\"] = df_stats[\"goout\"].values.astype(str).astype(int)\n",
    "\n",
    "## Creating new variables \"social index\"\n",
    "df_stats[\"index\"] = df_stats['goout'] * 0.25 + df_stats['internet'] * 0.02 + df_stats['romantic'] * 0.03 + df_stats['activities'] * -0.01\n",
    "df_nice[\"Social Index\"] = df_stats[\"index\"]\n",
    "\n",
    "## Creating new variables \"drinking index\"\n",
    "df_stats[\"drinking\"] = (df_stats[\"Walc\"] * 5 + df_stats[\"Dalc\"] * 2) / 7 \n",
    "df_nice[\"Drinking Index\"] = df_stats[\"drinking\"]\n",
    "\n",
    "\n",
    "df_nice.head()"
   ]
  },
  {
   "cell_type": "markdown",
   "metadata": {},
   "source": [
    "## Project Overview"
   ]
  },
  {
   "cell_type": "markdown",
   "metadata": {},
   "source": [
    "## The Purpose of Our Project"
   ]
  },
  {
   "cell_type": "markdown",
   "metadata": {},
   "source": [
    "## Data Preparation and Cleaning"
   ]
  },
  {
   "cell_type": "code",
   "execution_count": 113,
   "metadata": {},
   "outputs": [],
   "source": [
    "## Explore \n",
    "import plotly\n",
    "import plotly.plotly as py\n",
    "import plotly.tools as tls\n",
    "import plotly.graph_objs as go\n",
    "\n",
    "plotly.tools.set_credentials_file(username='JYCestelle', api_key='zZMBwVVRPMG0Dj5GL2Fd')"
   ]
  },
  {
   "cell_type": "code",
   "execution_count": 151,
   "metadata": {},
   "outputs": [
    {
     "name": "stderr",
     "output_type": "stream",
     "text": [
      "/Users/orange/anaconda3/lib/python3.7/site-packages/IPython/core/display.py:689: UserWarning:\n",
      "\n",
      "Consider using IPython.display.IFrame instead\n",
      "\n"
     ]
    },
    {
     "data": {
      "text/html": [
       "<iframe id=\"igraph\" scrolling=\"no\" style=\"border:none;\" seamless=\"seamless\" src=\"https://plot.ly/~JYCestelle/4.embed\" height=\"525px\" width=\"100%\"></iframe>"
      ],
      "text/plain": [
       "<plotly.tools.PlotlyDisplay object>"
      ]
     },
     "execution_count": 151,
     "metadata": {},
     "output_type": "execute_result"
    }
   ],
   "source": [
    "# Age Distribution - plotly\n",
    "data = [go.Bar(\n",
    "            x= df['age'].value_counts(),\n",
    "            y= df['age'].value_counts().index,\n",
    "            marker=dict(\n",
    "                color='rgba(122, 120, 168, 0.8)',\n",
    "            ),\n",
    "            orientation = 'h', \n",
    "            name='Name of Trace 1'\n",
    ")]\n",
    "\n",
    "layout = go.Layout(\n",
    "    title='Plot Title',\n",
    "    xaxis=dict(\n",
    "        title='Occurrence of particular age'),\n",
    "    yaxis=dict(\n",
    "        title='Age')\n",
    ")\n",
    "fig = go.Figure(data=data, layout=layout)\n",
    "py.iplot(fig, filename='horizontal-bar')\n",
    "\n",
    "# draw graph using matplotlib\n",
    "# plt.figure(figsize=(15, 8))\n",
    "# plt.barh(df['age'].value_counts().index, df['age'].value_counts(), align='center', alpha=0.5)\n",
    "# plt.xlabel(\"Occurrence of particular age.\")\n",
    "# plt.ylabel(\"Age\")\n",
    "# plt.title(\"Age Distribution\")\n",
    "# plt.show()"
   ]
  },
  {
   "cell_type": "code",
   "execution_count": 59,
   "metadata": {
    "scrolled": false
   },
   "outputs": [
    {
     "data": {
      "image/png": "[encoded data removed]",
      "text/plain": [
       "<Figure size 1080x576 with 1 Axes>"
      ]
     },
     "metadata": {
      "needs_background": "light"
     },
     "output_type": "display_data"
    }
   ],
   "source": [
    "# relationship between social factors and drinking level\n",
    "plt.figure(figsize=(15, 8))\n",
    "plt.scatter(df_nice[\"Drinking Index\"], df_nice[\"Social Index\"], alpha=0.5)\n",
    "plt.xlabel(\"Drinking index.\")\n",
    "plt.ylabel(\"Social index\")\n",
    "plt.title(\"The relationship between social index and drinking index\")\n",
    "plt.show()"
   ]
  },
  {
   "cell_type": "code",
   "execution_count": 152,
   "metadata": {},
   "outputs": [],
   "source": [
    "dr = df['Dalc'].value_counts().tolist()\n",
    "wr = df['Walc'].value_counts().tolist()"
   ]
  },
  {
   "cell_type": "code",
   "execution_count": 136,
   "metadata": {},
   "outputs": [
    {
     "name": "stderr",
     "output_type": "stream",
     "text": [
      "/Users/orange/anaconda3/lib/python3.7/site-packages/IPython/core/display.py:689: UserWarning:\n",
      "\n",
      "Consider using IPython.display.IFrame instead\n",
      "\n"
     ]
    },
    {
     "data": {
      "text/html": [
       "<iframe id=\"igraph\" scrolling=\"no\" style=\"border:none;\" seamless=\"seamless\" src=\"https://plot.ly/~JYCestelle/2.embed\" height=\"525px\" width=\"100%\"></iframe>"
      ],
      "text/plain": [
       "<plotly.tools.PlotlyDisplay object>"
      ]
     },
     "execution_count": 136,
     "metadata": {},
     "output_type": "execute_result"
    }
   ],
   "source": [
    "trace0 = go.Bar(\n",
    "    x = df['Dalc'].value_counts().index.tolist(),\n",
    "    y = dr,\n",
    "    name='Daily Alcohol Consumption',\n",
    "    marker=dict(\n",
    "        color='rgb(49,130,189)'\n",
    "    )\n",
    ")\n",
    "trace1 = go.Bar(\n",
    "    x = df['Walc'].value_counts().index,\n",
    "    y = wr,\n",
    "    name='Weekends Alcohol Consumption',\n",
    "    marker=dict(\n",
    "        color='rgb(204,204,204)',\n",
    "    )\n",
    ")\n",
    "\n",
    "data = [trace0, trace1]\n",
    "layout = go.Layout(\n",
    "    xaxis=dict(tickangle=-45),\n",
    "    barmode='group',   \n",
    "    title='Daily Alcohol Consumption VS Weekends Alcohol Consumption',\n",
    ")\n",
    "\n",
    "fig = go.Figure(data=data, layout=layout)\n",
    "py.iplot(fig, filename='angled-text-bar')"
   ]
  }
 ],
 "metadata": {
  "kernelspec": {
   "display_name": "Python 3",
   "language": "python",
   "name": "python3"
  },
  "language_info": {
   "codemirror_mode": {
    "name": "ipython",
    "version": 3
   },
   "file_extension": ".py",
   "mimetype": "text/x-python",
   "name": "python",
   "nbconvert_exporter": "python",
   "pygments_lexer": "ipython3",
   "version": "3.7.1"
  }
 },
 "nbformat": 4,
 "nbformat_minor": 2
}
