{
 "cells": [
  {
   "cell_type": "markdown",
   "metadata": {},
   "source": [
    "# Student Alcohol Consumption\n",
    "## Eric Lin, Naveen Janarthanan, Estelle Jiang, Nuo Chen"
   ]
  },
  {
   "cell_type": "markdown",
   "metadata": {},
   "source": [
    "## Project Description\n",
    "> An issue that persists in modern day is abusive alcohol consumption by adolescents. These adolescents tend to start drinking at a very young age for various physical, emotional, and lifestyle changes. Puberty and learning how to live independently often contribute to the commence of alcohol consumption. However, due to the immature mindset that most adolescents have during these early ages, they tend to make bad decisions regarding anything they might term as _\"risky\"_ or _\"cool\"_, such as consuming large amounts of alcohol to get drunk. In fact, **51%** of junior and senior high school students have had at least one drink within the past year and **8 million students drink weekly**. **More than 3 million students drink alone**, **more than 4 million drink when they are upset**, and **less than 3 million drink because they are bored**. In addition, parents, friends, and alcoholic beverage advertisements influences students’ attitudes about alcohol. Students' drinking habit is often heavily influenced by their surroundings and is likely impacted by the local student culture and norms. As such, we wanted to analyze this issue in further detail by analyzing all the possible variables that could potentially have an effect on student alcohol consumption, such as personal statistics, parent statistics and education values, and produce a model to help predict student drinking rates based on these features.\n"
   ]
  },
  {
   "cell_type": "markdown",
   "metadata": {},
   "source": [
    "## Variables in the Dataset (talk about variables in the dataset and outside research on how they could connect with alc consumption(\n",
    "> "
   ]
  },
  {
   "cell_type": "markdown",
   "metadata": {},
   "source": [
    "## Data Preparation (nothing to write here)"
   ]
  },
  {
   "cell_type": "markdown",
   "metadata": {},
   "source": [
    "### Data Cleaning (discuss how/if we needed to do any data cleaning)\n",
    "> "
   ]
  },
  {
   "cell_type": "markdown",
   "metadata": {},
   "source": [
    "### New Variables (discuss why we created new variables)\n",
    "#### Social Index\n",
    "> \n",
    "#### Drinking per Week Index\n",
    ">\n"
   ]
  },
  {
   "cell_type": "markdown",
   "metadata": {},
   "source": [
    "## Exploratory Data Analysis (the statistical analysis stuff)\n",
    "> "
   ]
  },
  {
   "cell_type": "code",
   "execution_count": null,
   "metadata": {},
   "outputs": [],
   "source": []
  }
 ],
 "metadata": {
  "kernelspec": {
   "display_name": "Python 3",
   "language": "python",
   "name": "python3"
  },
  "language_info": {
   "codemirror_mode": {
    "name": "ipython",
    "version": 3
   },
   "file_extension": ".py",
   "mimetype": "text/x-python",
   "name": "python",
   "nbconvert_exporter": "python",
   "pygments_lexer": "ipython3",
   "version": "3.7.1"
  }
 },
 "nbformat": 4,
 "nbformat_minor": 2
}
