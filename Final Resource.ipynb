{
 "cells": [
  {
   "cell_type": "markdown",
   "metadata": {},
   "source": [
    "# Student Alcohol Consumption\n",
    "## Eric Lin, Naveen Janarthanan, Estelle Jiang, Nuo Chen"
   ]
  },
  {
   "cell_type": "code",
   "execution_count": 3,
   "metadata": {},
   "outputs": [
    {
     "data": {
      "text/html": [
       "<script>\n",
       "code_show=true; \n",
       "function code_toggle() {\n",
       " if (code_show){\n",
       " $('div.input').hide();\n",
       " } else {\n",
       " $('div.input').show();\n",
       " }\n",
       " code_show = !code_show\n",
       "} \n",
       "$( document ).ready(code_toggle);\n",
       "</script>\n",
       "<form action=\"javascript:code_toggle()\"><input type=\"submit\" value=\"Click here to view imported code.\"></form>"
      ],
      "text/plain": [
       "<IPython.core.display.HTML object>"
      ]
     },
     "execution_count": 3,
     "metadata": {},
     "output_type": "execute_result"
    }
   ],
   "source": [
    "# import data\n",
    "from IPython.display import HTML\n",
    "\n",
    "#from analysis import df_stats\n",
    "\n",
    "HTML('''<script>\n",
    "code_show=true; \n",
    "function code_toggle() {\n",
    " if (code_show){\n",
    " $('div.input').hide();\n",
    " } else {\n",
    " $('div.input').show();\n",
    " }\n",
    " code_show = !code_show\n",
    "} \n",
    "$( document ).ready(code_toggle);\n",
    "</script>\n",
    "<form action=\"javascript:code_toggle()\"><input type=\"submit\" value=\"Click here to view imported code.\"></form>''')"
   ]
  },
  {
   "cell_type": "markdown",
   "metadata": {},
   "source": [
    "## Project Description\n",
    "> An issue that persists in modern day is abusive alcohol consumption by adolescents. These adolescents tend to start drinking at a very young age for various physical, emotional, and lifestyle changes. Puberty and learning how to live independently often contribute to the commence of alcohol consumption. However, due to the immature mindset that most adolescents have during these early ages, they tend to make bad decisions regarding anything they might term as _\"risky\"_ or _\"cool\"_, such as consuming large amounts of alcohol to get drunk. In fact, **51%** of junior and senior high school students have had at least one drink within the past year and **8 million students drink weekly**. **More than 3 million students drink alone**, **more than 4 million drink when they are upset**, and **less than 3 million drink because they are bored**. In addition, parents, friends, and alcoholic beverage advertisements influences students’ attitudes about alcohol. Students' drinking habit is often heavily influenced by their surroundings and is likely impacted by the local student culture and norms. As such, we wanted to analyze this issue in further detail by analyzing all the possible variables that could potentially have an effect on student alcohol consumption, such as personal statistics, parent statistics and education values, and produce a model to help predict student drinking rates based on these features.\n"
   ]
  },
  {
   "cell_type": "markdown",
   "metadata": {},
   "source": [
    "## Data Set \n",
    "> The Student Alcohol Consumption data set is found on the Kaggle website. The data was obtained in a survey of student's math and portuguese language courses in the secondary school. In the data set, there are more than thirty features about the student, such as the gender, the age, as well as whether the student is engaged in a romantic relationship. The website also provided us with two data sets; one dataset contained students from a math course, and the other dataset contained students from a Portuguese language course. We will be using those data to predict the alcohol consumption of a student within a week. "
   ]
  },
  {
   "cell_type": "markdown",
   "metadata": {},
   "source": [
    "## Variables in the Dataset (talk about variables in the dataset and outside research on how they could connect with alc consumption(\n",
    "> We are initially provided with 34 features regarding the student's personal and family background statistics (as shown in the table above). At first glance, many of these variables seem to have a strong correlation with the student drinking rates. For example, a student's _freetime_ and _goout_ "
   ]
  },
  {
   "cell_type": "markdown",
   "metadata": {},
   "source": [
    "## Data Preparation (nothing to write here)"
   ]
  },
  {
   "cell_type": "markdown",
   "metadata": {},
   "source": [
    "### Data Cleaning (discuss how/if we needed to do any data cleaning)\n",
    "> Surprisingly, the data sets provided did not include any missing values. Hence, we will be using the data as it is. On the other hand, we decided to combine the two data sets together because both data sets have same features\n"
   ]
  },
  {
   "cell_type": "markdown",
   "metadata": {},
   "source": [
    "### New Variables (discuss why we created new variables)\n",
    "#### Social Index\n",
    ">\n",
    "#### Drinking per Week Index\n",
    "> The Drinking per Week Index is a index that measures the amount of alcohol a student consumes throughout the entire week. We computed this number by combining the weekday alcohol consumption index and the weekend alcohol consumption index and multiplying by their weights accordingly. This index ranges from one to five, where five represents high alcohol consumption and one represents low alcohol consumption. This index allows us to convert categorical variable to continous variable, which is apropos for running a regression model. \n"
   ]
  },
  {
   "cell_type": "markdown",
   "metadata": {},
   "source": [
    "## Exploratory Data Analysis (the statistical analysis stuff)\n",
    "> "
   ]
  },
  {
   "cell_type": "code",
   "execution_count": null,
   "metadata": {},
   "outputs": [],
   "source": []
  }
 ],
 "metadata": {
  "kernelspec": {
   "display_name": "Python 3",
   "language": "python",
   "name": "python3"
  },
  "language_info": {
   "codemirror_mode": {
    "name": "ipython",
    "version": 3
   },
   "file_extension": ".py",
   "mimetype": "text/x-python",
   "name": "python",
   "nbconvert_exporter": "python",
   "pygments_lexer": "ipython3",
   "version": "3.7.1"
  }
 },
 "nbformat": 4,
 "nbformat_minor": 2
}
